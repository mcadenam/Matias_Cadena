{
 "cells": [
  {
   "cell_type": "markdown",
   "metadata": {},
   "source": [
    "# IMEC2201 Herramientas Computacionales \n",
    "## Taller Semana 2: Visualizaciones y Ajuste de Datos\n",
    "### Fecha Límite Entrega (Bloque Neón): <font color=\"#FF5733\">23.59h de Abril 22, 2022</font>\n",
    "\n",
    "Universidad de los Andes — Abril 6, 2022.\n",
    "\n",
    "___\n",
    "### Tener en Cuenta\n",
    "La entrega del Taller 2 se puede realizar de tres maneras:\n",
    "1. Cargar la solución en su repositorio en GitHub y enviar el enlace del mismo vía Bloque Neón.\n",
    "2. Enviar vía Bloque Neón el archivo en Jupyter Notebook (extensión '.ipynb').\n",
    "3. Enviar vía Bloque Neón el archivo PDF del Jupyter Notebook.\n",
    "___"
   ]
  },
  {
   "cell_type": "markdown",
   "metadata": {},
   "source": [
    "## Ejercicio 1: Correlación Medición-Simulación\n",
    "\n",
    "En la carpeta $\\texttt{data}$ se disponen los archivos `SD_5Min.xlsx` y `solar_production.csv`.\n",
    "\n",
    "- `SD_5Min.xlsx` contiene las **mediciones** de los valores de producción de la planta solar fotovoltaica ubicada en el edificio Santo Domingo de la Universidad de los Andes, desde 1-Agosto-2019 hasta 30-Junio-2021.\n",
    "- `solar_production.csv` contiene los resultados de una **simulación** de la misma planta y con la misma resolución de los datos (i.e., un dato cada cinco minutos), desde 1-Enero-2020 hasta 1-Enero-2021.\n",
    "\n",
    "<div class=\"alert alert-block alert-warning\">\n",
    "    \n",
    "Realice una correlación entre los datos medidos (eje X) y los datos simulados (eje Y) de Potencia AC. Tenga en cuenta:\n",
    "1. ¿Cómo uniría los dos DataFrame en un único DataFrame con base en las fechas indicadas en el archivo `solar_production.csv`? Explore la función `innerjoin()`.\n",
    "2. Cómo realizaría un ajuste lineal de los datos para: <br>\n",
    "    2.1. Extraer parámetros de ecuación de la curva de regresión lineal (pendiente e intercepto). <br>\n",
    "    2.2. Calcular el coeficiente de correlación R2. <br>\n",
    "3. Grafique la correlación entre estos datos y su ajuste lineal, incluyendo en la leyenda la ecuación de la recta y el coeficiente de correlación.\n",
    "\n",
    "**Nota:** Es posible experimentar retardos (lags) en VS Code o Jupyter Notebook por la cantidad de datos con que se trabaja y la alta resolución de las gráficas. Para evitar esto:\n",
    "- Tomar el número de datos que ustedes desean graficar, ya sea modificando el DataFrame desde Julia o modificar el archivo CSV y guardarlo como un archivo aparte del original.\n",
    "- Cambiar el backend de gráficas de Julia. Por ejemplo, para los que conocen matplotlib en Python, desde Julia pueden crear estas gráficas con la librería PyPlot.\n",
    "\n",
    "</div>\n",
    "\n",
    "___\n",
    "\n",
    "**Ejemplo** <br>\n",
    "<font color=\"#FF5733\">Output</font>\n",
    "\n",
    "<img src='./img/Correlation_Pac.png' width='350'/>\n",
    "\n",
    "___"
   ]
  },
  {
   "cell_type": "code",
   "execution_count": 10,
   "metadata": {},
   "outputs": [
    {
     "name": "stdout",
     "output_type": "stream",
     "text": [
      "\u001b[1m3×7 DataFrame\u001b[0m\n",
      "\u001b[1m Row \u001b[0m│\u001b[1m variable                  \u001b[0m\u001b[1m mean    \u001b[0m\u001b[1m min        \u001b[0m\u001b[1m median              \u001b[0m\u001b[1m ma\u001b[0m ⋯\n",
      "\u001b[1m     \u001b[0m│\u001b[90m Symbol                    \u001b[0m\u001b[90m Union…  \u001b[0m\u001b[90m Any        \u001b[0m\u001b[90m Any                 \u001b[0m\u001b[90m An\u001b[0m ⋯\n",
      "─────┼──────────────────────────────────────────────────────────────────────────\n",
      "   1 │ Datetime                  \u001b[90m         \u001b[0m 2019-08-01  2020-07-15T17:05:00  20 ⋯\n",
      "   2 │ Lufft Irrad (W/m2)         162.438  0.0         2.201                15\n",
      "   3 │ Meteocontrol Irrad (W/m2)  143.982  0.0         2.952                14\n",
      "\u001b[36m                                                               3 columns omitted\u001b[0m\u001b[1m14×7 DataFrame\u001b[0m\n",
      "\u001b[1m Row \u001b[0m│\u001b[1m variable                          \u001b[0m\u001b[1m mean      \u001b[0m\u001b[1m min                      \u001b[0m ⋯\n",
      "\u001b[1m     \u001b[0m│\u001b[90m Symbol                            \u001b[0m\u001b[90m Union…    \u001b[0m\u001b[90m Any                      \u001b[0m ⋯\n",
      "─────┼──────────────────────────────────────────────────────────────────────────\n",
      "   1 │ Datetime                          \u001b[90m           \u001b[0m 2020-01-01 00:00:00-05:00 ⋯\n",
      "   2 │ Zenith (deg)                       89.9582    0.1\n",
      "   3 │ Elevation (deg)                    0.041825   -89.91\n",
      "   4 │ Azimuth (deg)                      180.01     0.0\n",
      "   5 │ Airmass Relative (ad)              3.23561    1.0                       ⋯\n",
      "   6 │ Airmass Absolute (ad)              2.34559    0.72\n",
      "   7 │ Extraterrestrial Radiation (W/m2)  1361.28    1316.67\n",
      "   8 │ POA (W/m2)                         165.478    0.0\n",
      "   9 │ Tmod (C)                           35.7786    8.15                      ⋯\n",
      "  10 │ Pdc (W)                            8373.42    0.0\n",
      "  11 │ Pac (W)                            8131.01    0.0\n",
      "  12 │ Daily Energy (Wh)                  1.95176e5  60781.8\n",
      "  13 │ Weekly Energy (Wh)                 1.36651e6  7.74401e5                 ⋯\n",
      "  14 │ Monthly Energy (Wh)                5.95179e6  4.42027e6\n",
      "\u001b[36m                                                               4 columns omitted\u001b[0m"
     ]
    }
   ],
   "source": [
    "using DataFrames, CSV, XLSX\n",
    "\n",
    "df = DataFrame(XLSX.readtable(\"./data/SD_5Min.xlsx\", \"Radiacion\", header=true)...)\n",
    "rename!(df,:Date => :Datetime)\n",
    "df2 = DataFrame(CSV.File(\"./data/solar_production.csv\", header=1, delim=';'))\n",
    "\n",
    "df3 = innerjoin(df, df2, on = :Datetime)\n",
    "show(describe(df))\n",
    "show(describe(df2))\n",
    "\n",
    "\n"
   ]
  },
  {
   "cell_type": "markdown",
   "metadata": {},
   "source": [
    "## Ejercicio 2: Comportamiento Estadístico Mensual\n",
    "\n",
    "En la carpeta $\\texttt{data}$ se dispone el archivo `SD_5Min.xlsx` que contiene las **mediciones** de los valores de producción de la planta solar fotovoltaica ubicada en el edificio Santo Domingo de la Universidad de los Andes, desde 1-Agosto-2019 hasta 30-Junio-2021.\n",
    "\n",
    "<div class=\"alert alert-block alert-warning\">\n",
    "    \n",
    "Escriba un algoritmo que permita obtener los valores máximo, promedio y mínimo para todos los días de un mes durante cada instante de tiempo. Es decir:\n",
    "\n",
    "<img src='./img/table_excercise2.png' width='650'/>\n",
    "\n",
    "Note que:\n",
    "- La primera columna contiene las estampas de tiempo para un día completo, es decir, un dato cinco minutal desde las 00:00 hasta las 23:55.\n",
    "- Se tiene una columna de datos de irradiancia por día; es decir, 30 o 31 columnas de datos.\n",
    "- Se agregan las columnas de interés: mínimo, promedio y máximo. Estas son columnas calculadas con las 30 o 31 columnas de datos. Por ejemplo:\n",
    "    - Columna: Mínimo, Fila: 11:55 -> min(800, 700, 880, ..., 630) = 630\n",
    "    - Columna: Promedio, Fila: 12:00 -> mean(850, 680, 930, ..., 720) = 795\n",
    "    - Columna: Máximo, Fila: 12:05 -> max(1010, 810, 850, ..., 760) = 1010\n",
    "- La gráfica se genera al graficar en una misma figura: (i.) Tiempo vs Mín, (ii.) Tiempo vs Prom, (iii.) Tiempo vs. Max.\n",
    "</div>\n",
    "\n",
    "___\n",
    "\n",
    "**Ejemplo** <br>\n",
    "<font color=\"#FF5733\">Output</font>\n",
    "<img src='./img/irradiance_per_minute.png' width='750'/>\n",
    "\n",
    "**Nota:** Solo se solicita la gráfica de los datos mínimo, promedio y máximo, es decir, los marcadores color azul, verde y naranja en esta figura.\n",
    "___"
   ]
  },
  {
   "cell_type": "code",
   "execution_count": null,
   "metadata": {},
   "outputs": [],
   "source": [
    "using DataFrames, XLSX\n",
    "\n",
    "df = DataFrame(XLSX.readtable(\"./data/SD_5Min.xlsx\", \"Radiacion\", header=true))"
   ]
  },
  {
   "cell_type": "markdown",
   "metadata": {},
   "source": [
    "## Ejercicio 3: Histogramas y Distribuciones\n",
    "\n",
    "En la carpeta $\\texttt{data}$ se dispone el archivo `SD_5Min.xlsx` que contiene las **mediciones** de los valores de producción de la planta solar fotovoltaica ubicada en el edificio Santo Domingo de la Universidad de los Andes, desde 1-Agosto-2019 hasta 30-Junio-2021. \n",
    "\n",
    "<div class=\"alert alert-block alert-warning\">\n",
    "    \n",
    "Similar al Ejercicio 2, escriba un algoritmo que permita obtener un DataFrame tal que:\n",
    "- La primera columna contiene las estampas de tiempo para un día completo, es decir, un dato cinco minutal desde las 00:00 hasta las 23:55.\n",
    "- Se tiene una columna de datos de irradiancia por día; es decir, 30 o 31 columnas de datos.\n",
    "\n",
    "A partir de este DataFrame, cree un histogramas para tres instantes de tiempo diferentes (es decir, tres histogramas en total) y analice e interprete el resultado.\n",
    "\n",
    "**Nota:** Explore qué es un *QQ-Plot* y cómo implementarlo en Julia.\n",
    "\n",
    "</div>\n",
    "\n",
    "___\n",
    "**Ejemplo** <br>\n",
    "<font color=\"#FF5733\">Output</font>\n",
    "\n",
    "<img src='./img/histograms.png' width='700'/>\n",
    "___"
   ]
  },
  {
   "cell_type": "code",
   "execution_count": null,
   "metadata": {},
   "outputs": [],
   "source": [
    "using Pkg\n",
    "using DataFrames, CSV, XLSX\n",
    "Pkg.add(\"PlotlyJS\")\n",
    "\n",
    "df = DataFrame(XLSX.readtable(\"./data/SD_5Min.xlsx\", \"Radiacion\", header=true)...)\n",
    "rename!(df,:Date => :Datetime)\n",
    "show(df[149651:288:158291, [:\"Datetime\", :\"Lufft Irrad (W/m2)\"]])\n",
    "plot(df[!, \"Lufft Irrad (W/m2)\"][149651:288:158291], x=:\"Lufft Irrad (W/m2\", kind=\"histogram\")"
   ]
  }
 ],
 "metadata": {
  "kernelspec": {
   "display_name": "Julia 1.7.2",
   "language": "julia",
   "name": "julia-1.7"
  },
  "language_info": {
   "file_extension": ".jl",
   "mimetype": "application/julia",
   "name": "julia",
   "version": "1.7.2"
  },
  "toc": {
   "base_numbering": 1,
   "nav_menu": {},
   "number_sections": false,
   "sideBar": true,
   "skip_h1_title": true,
   "title_cell": "Table of Contents",
   "title_sidebar": "Contents",
   "toc_cell": false,
   "toc_position": {},
   "toc_section_display": true,
   "toc_window_display": false
  }
 },
 "nbformat": 4,
 "nbformat_minor": 2
}
