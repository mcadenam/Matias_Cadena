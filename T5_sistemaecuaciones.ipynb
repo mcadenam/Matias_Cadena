{
 "cells": [
  {
   "cell_type": "markdown",
   "metadata": {},
   "source": [
    "# IMEC2201 Herramientas Computacionales \n",
    "## Taller Semana 5: Sistemas de Ecuaciones - Estática\n",
    "### Fecha Límite Entrega (Bloque Neón): <font color=\"#FF5733\">23.59h de Mayo 15, 2022</font>\n",
    "\n",
    "Universidad de los Andes — Mayo 6, 2022.\n",
    "___\n",
    "### Tener en Cuenta\n",
    "La entrega del Taller 5 se puede realizar de tres maneras:\n",
    "1. Cargar la solución en su repositorio en GitHub y enviar el enlace del mismo vía Bloque Neón.\n",
    "2. Enviar vía Bloque Neón el archivo en Jupyter Notebook (extensión '.ipynb').\n",
    "3. Enviar vía Bloque Neón el archivo PDF del Jupyter Notebook.\n",
    "___\n",
    "\n",
    "# Semana 5: Sistemas de Ecuaciones Lineales\n",
    "\n",
    "Los sistemas de ecuaciones lineales son frecuentes en problemas de ingeniería, desde circuitos electronicos hasta problemas de estática. En ingeniería mecánica, se encuentran en diferentes problemas como resistencias térmicas y ecuaciones de equilibrio de cuerpos y partículas estáticas. Para comprender mejor este tipo de problemas, es importante recordar ciertas operaciones básicas del álgebra lineal. \n",
    "\n",
    "Para este módulo, se usará el paquete ``LinearAlgebra``. Para la instalación de estos paquetes, al igual que los anteriores utilizados, se usa cualquiera de las siguientes líneas de código:\n",
    "\n",
    "* ``using Pkg; Pkg.add(\"LinearAlgebra\")``.\n",
    "\n",
    "* Entrar al REPL de Julia y escribir ``Julia> ] add LinearAlgebra`` y dar enter.\n",
    "\n",
    "Posteriormente, se dejarán unos ejercicios prácticos de problemas de estática. Se recomienda entregar el archivo con los ejercicios resueltos con el formato ``\"S3_CodigoEstudiante.ipynb\"`` con el fin de optimizar el proceso de calificación.\n",
    "\n",
    "## Operaciones con escalares, vectores y matrices\n",
    "\n",
    "En primer lugar, este módulo trabajará con tres tipos de datos: escalares, vectores y matrices. \n",
    "\n",
    "### Escalares\n",
    "\n",
    "Un escalar es todo número real, o bien un arreglo de dimensión 1 X 1. La información que representa cada escalar puede comprenderse como la magnitud de una fuerza, un valor de temperatura o bien una constante. En Julia, se puede expresar como el valor a una variable. En este caso, le damos el valor de $2\\pi$ a una variable $x$:\n",
    "\n",
    "``x = 2π``\n",
    "\n",
    "### Vectores\n",
    "\n",
    "\n",
    "Un vector es un conjunto de numeros reales ordenados que representan información. Por ejemplo, las componentes de una posicion, velocidad o fuerza. Los vectores tienen un tamaño de $n \\times 1$ para un vector columna, o de $1 \\times n$ para un vector fila, donde $n$ es el número de compontentes del vector. Se puden declarar de la siguientes maneras:\n",
    "\n",
    "* Columna: ``V = [1;2] ``\n",
    "\n",
    "* Fila: ``U = [1,2,3] ``\n",
    "\n",
    "Se pueden realizar operaciones con vectores y escalares, como se ve en las siguientes celdas de código:\n"
   ]
  },
  {
   "cell_type": "code",
   "execution_count": 1,
   "metadata": {},
   "outputs": [],
   "source": [
    "# Declarar los vectores\n",
    "V = [1,2]\n",
    "U = [3,4];"
   ]
  },
  {
   "cell_type": "markdown",
   "metadata": {},
   "source": [
    "**Suma de vectores**\n",
    "\n",
    "\n",
    "Nótese que una matrix de $1 \\times 2$ es un vector fila de dos componentes."
   ]
  },
  {
   "cell_type": "code",
   "execution_count": 2,
   "metadata": {},
   "outputs": [
    {
     "data": {
      "text/plain": [
       "2-element Vector{Int64}:\n",
       " 4\n",
       " 6"
      ]
     },
     "execution_count": 2,
     "metadata": {},
     "output_type": "execute_result"
    }
   ],
   "source": [
    "U + V"
   ]
  },
  {
   "cell_type": "code",
   "execution_count": 3,
   "metadata": {},
   "outputs": [
    {
     "data": {
      "text/plain": [
       "2-element Vector{Int64}:\n",
       " 2\n",
       " 2"
      ]
     },
     "execution_count": 3,
     "metadata": {},
     "output_type": "execute_result"
    }
   ],
   "source": [
    "U - V"
   ]
  },
  {
   "cell_type": "markdown",
   "metadata": {},
   "source": [
    "**Producto punto**\n",
    "\n",
    "En este caso, usamos la funcion ``dot(x,y)`` del paquete ``LinearAlgebra``:"
   ]
  },
  {
   "cell_type": "code",
   "execution_count": 4,
   "metadata": {},
   "outputs": [
    {
     "data": {
      "text/plain": [
       "11"
      ]
     },
     "execution_count": 4,
     "metadata": {},
     "output_type": "execute_result"
    }
   ],
   "source": [
    "using LinearAlgebra\n",
    "dot(U,V)"
   ]
  },
  {
   "cell_type": "markdown",
   "metadata": {},
   "source": [
    "**Multiplicación por escalares**"
   ]
  },
  {
   "cell_type": "code",
   "execution_count": 5,
   "metadata": {},
   "outputs": [
    {
     "name": "stdout",
     "output_type": "stream",
     "text": [
      "[30, 40]\n",
      "[0.5, 1.0]\n"
     ]
    }
   ],
   "source": [
    "U₂ = 10U\n",
    "V₂ = V/2\n",
    "println(U₂)\n",
    "println(V₂)"
   ]
  },
  {
   "cell_type": "markdown",
   "metadata": {},
   "source": [
    "**Magnitud de un vector**"
   ]
  },
  {
   "cell_type": "code",
   "execution_count": 6,
   "metadata": {},
   "outputs": [
    {
     "data": {
      "text/plain": [
       "2.8284271247461903"
      ]
     },
     "execution_count": 6,
     "metadata": {},
     "output_type": "execute_result"
    }
   ],
   "source": [
    "norm(U - V)"
   ]
  },
  {
   "cell_type": "markdown",
   "metadata": {},
   "source": [
    "### Matrices\n",
    "\n",
    "Las matrices son arreglos de números ordenados en columnas y filas que representan diferentes datos. Siguiendo con el ejemplo de problemas de estática, se puede definir una matriz como los coeficientes de las variables para cumplir una condición de equilibrio. Más adelante se presentan diferentes ejemplos reales con el fin de mostrar la aplicación de matrices en este tipo de problemas de ingeniería.\n",
    "\n",
    "En las siguientes líneas de código se podrán ver las diferentes operaciones con matrices."
   ]
  },
  {
   "cell_type": "code",
   "execution_count": 7,
   "metadata": {},
   "outputs": [
    {
     "data": {
      "text/plain": [
       "3×3 Matrix{Int64}:\n",
       "  1   4   9\n",
       " 16  25  36\n",
       " 49  64  81"
      ]
     },
     "execution_count": 7,
     "metadata": {},
     "output_type": "execute_result"
    }
   ],
   "source": [
    "# Declarar una matriz\n",
    "A = [1 2 3;4 5 6; 7 8 9]\n",
    "B = A.^2"
   ]
  },
  {
   "cell_type": "code",
   "execution_count": 8,
   "metadata": {},
   "outputs": [
    {
     "data": {
      "text/plain": [
       "3×3 Matrix{Int64}:\n",
       " 1  2  3\n",
       " 4  5  6\n",
       " 7  8  9"
      ]
     },
     "execution_count": 8,
     "metadata": {},
     "output_type": "execute_result"
    }
   ],
   "source": [
    "# Se pueden declarar usando un enter + tab en vez de un ;\n",
    "H = [1 2 3\n",
    "    4 5 6\n",
    "    7 8 9]"
   ]
  },
  {
   "cell_type": "code",
   "execution_count": 9,
   "metadata": {},
   "outputs": [
    {
     "data": {
      "text/plain": [
       "3×3 Matrix{Float64}:\n",
       "  1.29167   -1.16667    0.375\n",
       " -2.16667    1.66667   -0.5\n",
       "  0.930556  -0.611111   0.180556"
      ]
     },
     "execution_count": 9,
     "metadata": {},
     "output_type": "execute_result"
    }
   ],
   "source": [
    "# invertir una matriz, recordar que el determinante debe ser ≠ 0\n",
    "inv(B)"
   ]
  },
  {
   "cell_type": "code",
   "execution_count": 10,
   "metadata": {},
   "outputs": [
    {
     "data": {
      "text/plain": [
       "(0.0, -216.00000000000017)"
      ]
     },
     "execution_count": 10,
     "metadata": {},
     "output_type": "execute_result"
    }
   ],
   "source": [
    "# Determinante de una matriz\n",
    "det(A),det(B)"
   ]
  },
  {
   "cell_type": "markdown",
   "metadata": {},
   "source": [
    "**Suma de Matrices**"
   ]
  },
  {
   "cell_type": "code",
   "execution_count": 11,
   "metadata": {},
   "outputs": [
    {
     "data": {
      "text/plain": [
       "3×3 Matrix{Int64}:\n",
       "  2   6  12\n",
       " 20  30  42\n",
       " 56  72  90"
      ]
     },
     "execution_count": 11,
     "metadata": {},
     "output_type": "execute_result"
    }
   ],
   "source": [
    "C = A + B"
   ]
  },
  {
   "cell_type": "code",
   "execution_count": 12,
   "metadata": {},
   "outputs": [
    {
     "data": {
      "text/plain": [
       "3×3 Matrix{Int64}:\n",
       "  0   2   6\n",
       " 12  20  30\n",
       " 42  56  72"
      ]
     },
     "execution_count": 12,
     "metadata": {},
     "output_type": "execute_result"
    }
   ],
   "source": [
    "D = B - A"
   ]
  },
  {
   "cell_type": "markdown",
   "metadata": {},
   "source": [
    "**Multiplicaciones por escalares**\n",
    "\n",
    "Nótese el tipo de dato dependiendo de las operaciones"
   ]
  },
  {
   "cell_type": "code",
   "execution_count": 13,
   "metadata": {},
   "outputs": [
    {
     "data": {
      "text/plain": [
       "3×3 Matrix{Int64}:\n",
       "  0    4   12\n",
       " 24   40   60\n",
       " 84  112  144"
      ]
     },
     "execution_count": 13,
     "metadata": {},
     "output_type": "execute_result"
    }
   ],
   "source": [
    "E = 2D"
   ]
  },
  {
   "cell_type": "code",
   "execution_count": 14,
   "metadata": {},
   "outputs": [
    {
     "data": {
      "text/plain": [
       "3×3 Matrix{Float64}:\n",
       " 0.0  0.2  0.6\n",
       " 1.2  2.0  3.0\n",
       " 4.2  5.6  7.2"
      ]
     },
     "execution_count": 14,
     "metadata": {},
     "output_type": "execute_result"
    }
   ],
   "source": [
    "F = D /10"
   ]
  },
  {
   "cell_type": "markdown",
   "metadata": {},
   "source": [
    "**Multiplicaciones de Matrices**"
   ]
  },
  {
   "cell_type": "code",
   "execution_count": 15,
   "metadata": {},
   "outputs": [
    {
     "data": {
      "text/plain": [
       "2×2 Matrix{Int64}:\n",
       " 22  28\n",
       " 49  64"
      ]
     },
     "execution_count": 15,
     "metadata": {},
     "output_type": "execute_result"
    }
   ],
   "source": [
    "# Declarar matrices de diferentes tamaños\n",
    "A  = [1 2 3;4 5 6]\n",
    "B = [1 2;3 4;5 6]\n",
    "A*B"
   ]
  },
  {
   "cell_type": "code",
   "execution_count": 16,
   "metadata": {},
   "outputs": [
    {
     "ename": "LoadError",
     "evalue": "DimensionMismatch(\"matrix A has dimensions (3,2), matrix B has dimensions (3,3)\")",
     "output_type": "error",
     "traceback": [
      "DimensionMismatch(\"matrix A has dimensions (3,2), matrix B has dimensions (3,3)\")",
      "",
      "Stacktrace:",
      " [1] _generic_matmatmul!(C::Matrix{Int64}, tA::Char, tB::Char, A::Matrix{Int64}, B::Matrix{Int64}, _add::LinearAlgebra.MulAddMul{true, true, Bool, Bool})",
      "   @ LinearAlgebra /Users/julia/buildbot/worker/package_macos64/build/usr/share/julia/stdlib/v1.6/LinearAlgebra/src/matmul.jl:814",
      " [2] generic_matmatmul!(C::Matrix{Int64}, tA::Char, tB::Char, A::Matrix{Int64}, B::Matrix{Int64}, _add::LinearAlgebra.MulAddMul{true, true, Bool, Bool})",
      "   @ LinearAlgebra /Users/julia/buildbot/worker/package_macos64/build/usr/share/julia/stdlib/v1.6/LinearAlgebra/src/matmul.jl:802",
      " [3] mul!",
      "   @ /Users/julia/buildbot/worker/package_macos64/build/usr/share/julia/stdlib/v1.6/LinearAlgebra/src/matmul.jl:302 [inlined]",
      " [4] mul!",
      "   @ /Users/julia/buildbot/worker/package_macos64/build/usr/share/julia/stdlib/v1.6/LinearAlgebra/src/matmul.jl:275 [inlined]",
      " [5] *(A::Matrix{Int64}, B::Matrix{Int64})",
      "   @ LinearAlgebra /Users/julia/buildbot/worker/package_macos64/build/usr/share/julia/stdlib/v1.6/LinearAlgebra/src/matmul.jl:153",
      " [6] top-level scope",
      "   @ In[16]:2",
      " [7] eval",
      "   @ ./boot.jl:360 [inlined]",
      " [8] include_string(mapexpr::typeof(REPL.softscope), mod::Module, code::String, filename::String)",
      "   @ Base ./loading.jl:1094"
     ]
    }
   ],
   "source": [
    "# Multiplicaciones con matrices de tamaños no compatibles van a dar un error\n",
    "B*D"
   ]
  },
  {
   "cell_type": "markdown",
   "metadata": {},
   "source": [
    "Se puede obtener más informacion sobre matrices en la documentación del paquete de ``LinearAlgebra``:\n",
    "\n",
    "https://docs.julialang.org/en/v1/manual/arrays/\n",
    "\n"
   ]
  },
  {
   "cell_type": "markdown",
   "metadata": {},
   "source": [
    "### Operaciones de vectores y matrices para resolver sistemas de ecuaciones\n",
    "\n",
    "Una vez declaradas las matrices y los vectores se puede lograr solucionar un sistema de ecuaciones lineales. Tomando la teoría del álgebra lineal, sabemos que un sistema de ecuaciones está dado por:\n",
    "\n",
    "$$A \\vec{x} = \\vec{b} $$\n",
    "\n",
    "Donde $A$ es la matriz de coeficientes, $\\vec{b}$ es el vector de constantes conocidas y $\\vec{x}$ es el vector de variables a cuyos valores son de interés a encontrar. \n",
    "\n",
    "\n",
    "Y para encontrar la solución $\\vec{x}$ del sistema, se multiplica por el vector de constantes $\\vec{b}$ la matriz inversa de $A$:\n",
    "\n",
    "$$ \\vec{x} = A^{-1} \\times \\vec{b} $$\n",
    "\n",
    "En las siguientes líneas de codigo se podran ver ejemplos mediante este método. Vamos a usar las siguientes ecuacion lineal para ser resuelta con ``LinearAlgebra``:\n",
    "\n",
    "$$ 2 \\sin{(\\pi)} x_1 + 3 \\cos{(2\\pi/3)} x_2 = 1 $$\n",
    "\n",
    "$$ 4 x_1 + 5 x_2 = 2 $$"
   ]
  },
  {
   "cell_type": "code",
   "execution_count": 17,
   "metadata": {},
   "outputs": [
    {
     "data": {
      "text/plain": [
       "2-element Vector{Float64}:\n",
       "  1.3333333333333335\n",
       " -0.6666666666666667"
      ]
     },
     "execution_count": 17,
     "metadata": {},
     "output_type": "execute_result"
    }
   ],
   "source": [
    "# Declarar una matriz\n",
    "A = [2sin(π) 3cos(2π/3)\n",
    "    4 5]\n",
    "b = [1;2] # Vector de constantes\n",
    "x = inv(A)*b # Si se tiene b *inv(A) , va a dar un error, ya que no se cumplen las condiciones de multiplicacion de vectores por Matrices"
   ]
  },
  {
   "cell_type": "code",
   "execution_count": 18,
   "metadata": {},
   "outputs": [
    {
     "data": {
      "text/plain": [
       "(1.0, 2.0)"
      ]
     },
     "execution_count": 18,
     "metadata": {},
     "output_type": "execute_result"
    }
   ],
   "source": [
    "# Confirmar que se cumplan los valores\n",
    "res =( 2sin(π) * x[1] + 3cos(2π/3) * x[2], 4 * x[1] + 5* x[2])"
   ]
  },
  {
   "cell_type": "markdown",
   "metadata": {},
   "source": [
    "Nótese que el resultado es una tupla con los valores del vector de constantes $\\vec{b}$. También existe otra notacion para resolver este tipo de problemas, para los usuarios familiares con MatLab, es familiar el siguiente comando:\n",
    "\n",
    "``ans = A\\b``"
   ]
  },
  {
   "cell_type": "code",
   "execution_count": 19,
   "metadata": {},
   "outputs": [
    {
     "data": {
      "text/plain": [
       "2-element Vector{Float64}:\n",
       "  1.3333333333333335\n",
       " -0.6666666666666667"
      ]
     },
     "execution_count": 19,
     "metadata": {},
     "output_type": "execute_result"
    }
   ],
   "source": [
    "# Solucionar con el backslash \\:\n",
    "ans_2 = A\\b"
   ]
  },
  {
   "cell_type": "markdown",
   "metadata": {},
   "source": [
    "Como se puede observar, es el mismo resultado que se obtuvo en el otro método. \n",
    "\n",
    "## Ejemplos aplicados\n",
    "\n",
    "Ahora bien, se puede analizar un ejemplo un poco más real en el que se aplican los conceptos aprendidos. Podemos observar el siguiente ejemplo del libro de Hibbeler de estática:"
   ]
  },
  {
   "cell_type": "markdown",
   "metadata": {},
   "source": [
    "<img src=\"./img/ejemplo 3.2 hibbeler.png\" width='700' height='700'/>"
   ]
  },
  {
   "cell_type": "markdown",
   "metadata": {},
   "source": [
    "El ejemplo tiene de por si la solución al problema, y se va a plantear de tal manera que podamos comparar los resultados a los del libro. Para comprender el problema, cabe destacar lo siguiente:\n",
    "\n",
    "* Las variables a resolver son las tensiones, $T_1$ y $T_2$. \n",
    "\n",
    "* Por equilibrio en los ejes, se tienen dos ecuaciones. \n",
    "\n",
    "* Entonces, se tiene un sistema de $2 \\times 2$. \n",
    "\n",
    "Las ecuaciones de equilibrio son las ecuaciones (1) y (2) del ejemplo. Y son la base para construir la matriz de coeficientes y el vector de constantes. \n",
    "\n",
    "Se tiene que la matriz de coficientes corresponde a:\n",
    "\n",
    "$$ A = \n",
    "\\begin{bmatrix}\n",
    "\\cos{\\pi/4} & -4/5 \\\\\n",
    "\\sin{\\pi/4} & 3/5\n",
    "\\end{bmatrix} $$\n",
    "\n",
    "El vector de constantes es:\n",
    "\n",
    "$$ \\vec{b} = \n",
    "\\begin{bmatrix}\n",
    "0 \\\\\n",
    "T_{BD}\n",
    "\\end{bmatrix} $$\n",
    "\n",
    "A continuación se solucionará el sistema"
   ]
  },
  {
   "cell_type": "code",
   "execution_count": 20,
   "metadata": {},
   "outputs": [
    {
     "data": {
      "text/plain": [
       "2-element Vector{Float64}:\n",
       " 476.0\n",
       " 420.0"
      ]
     },
     "execution_count": 20,
     "metadata": {},
     "output_type": "execute_result"
    }
   ],
   "source": [
    "# Declarar la matriz y los vectores\n",
    "T_bd = 60*9.81 # Peso del bloque\n",
    "A = [cos(π/4) -4/5\n",
    "    sin(π/4) 3/5]\n",
    "b = [0;T_bd]\n",
    "solucion = round.(A\\b) # redondear al entero más cercano"
   ]
  },
  {
   "cell_type": "markdown",
   "metadata": {},
   "source": [
    "**Nota:** Para ángulos en grados, se pueden usar las funciones ``sind()`` y ``cosd()``.\n",
    "\n",
    "Como se puede notar, los valores son iguales a los del ejercicio del libro. A continuación se encuentran ejercicios similares para resolver los sistemas, tanto en 2 como en 3 dimensiones mediante el método explicado en este Notebook."
   ]
  },
  {
   "cell_type": "markdown",
   "metadata": {},
   "source": [
    "## Ejercicios "
   ]
  },
  {
   "cell_type": "markdown",
   "metadata": {},
   "source": [
    "### 1. Equilibrio de una partícula\n",
    "\n",
    "<img src=\"./img/3-66 hibbeler.png\" width='400' height='400'/>\n",
    "\n",
    "**NOTA:** Tomar la longitud inicial como 2 pies"
   ]
  },
  {
   "cell_type": "code",
   "execution_count": 21,
   "metadata": {},
   "outputs": [],
   "source": [
    "function punto_1()\n",
    "    # Escribir el codigo de la solución aqui\n",
    "    return () # Escribir respuesta aqui\n",
    "end;"
   ]
  },
  {
   "cell_type": "markdown",
   "metadata": {},
   "source": [
    "### 2. Equilibrio de un cuerpo rígido\n",
    "\n",
    "<img src=\"./img/cuerpo rigido.png\" width='400' height='400'/>"
   ]
  },
  {
   "cell_type": "code",
   "execution_count": 22,
   "metadata": {},
   "outputs": [],
   "source": [
    "function punto_2()\n",
    "    # Escribir el codigo de la solución aqui\n",
    "    return () # Escribir respuesta aqui\n",
    "end;"
   ]
  },
  {
   "cell_type": "markdown",
   "metadata": {},
   "source": [
    "### 3. Analisis de armaduras I\n",
    "\n",
    "<img src=\"./img/armaduras 1.png\" width='400' height='400'/>\n",
    "\n",
    "\n",
    "**NOTA:** La función de este ejerccicio debe retornar dos vectores o listas, una llamada ``fuerzas`` y la otra llamada ``tension_compresion`` para el autograder."
   ]
  },
  {
   "cell_type": "code",
   "execution_count": 23,
   "metadata": {},
   "outputs": [],
   "source": [
    "function punto_3()\n",
    "    # Escribir el codigo de la solución aqui\n",
    "    return () # Escribir respuesta aqui\n",
    "end;"
   ]
  },
  {
   "cell_type": "markdown",
   "metadata": {},
   "source": [
    "### Analisis de armaduras II\n",
    "\n",
    "<img src=\"./img/armaduras 2.png\" width='400' height='400'/>\n",
    "\n",
    "**NOTA:** La función de este ejerccicio debe retornar dos vectores o listas, una llamada ``fuerzas`` y la otra llamada ``tension_compresion`` para el autograder."
   ]
  },
  {
   "cell_type": "code",
   "execution_count": 24,
   "metadata": {},
   "outputs": [],
   "source": [
    "function punto_4()\n",
    "    # Escribir el codigo de la solución aqui\n",
    "    return () # Escribir respuesta aqui\n",
    "end;"
   ]
  }
 ],
 "metadata": {
  "kernelspec": {
   "display_name": "Julia 1.7.2",
   "language": "julia",
   "name": "julia-1.7"
  },
  "language_info": {
   "file_extension": ".jl",
   "mimetype": "application/julia",
   "name": "julia",
   "version": "1.7.2"
  }
 },
 "nbformat": 4,
 "nbformat_minor": 2
}
