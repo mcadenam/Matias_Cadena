{
 "cells": [
  {
   "cell_type": "markdown",
   "metadata": {},
   "source": [
    "# IMEC2201 Herramientas Computacionales \n",
    "## Taller Semana 1: Introducción\n",
    "### Fecha Límite Entrega (Bloque Neón): <font color=\"#FF5733\">23.59h de Abril 8, 2022</font>\n",
    "\n",
    "Universidad de los Andes — Marzo 30, 2022.\n",
    "\n",
    "___\n",
    "### Tener en Cuenta\n",
    "La entrega del Taller 1 se puede realizar de tres maneras:\n",
    "1. Cargar la solución en su repositorio en GitHub y enviar el enlace del mismo vía Bloque Neón.\n",
    "2. Enviar vía Bloque Neón el archivo en Jupyter Notebook (extensión '.ipynb').\n",
    "3. Enviar vía Bloque Neón el archivo PDF del Jupyter Notebook.\n",
    "\n",
    "___\n",
    "\n",
    "[1] Noel Kalicharan (2021). *Julia - Bit by Bit*, 1st Edition, University of the West Indies, Trinidad and Tobago. Switzerland: Springer, UTiCS. ISBN 978-3-030-73936-2.\n",
    "___"
   ]
  },
  {
   "cell_type": "markdown",
   "metadata": {},
   "source": [
    "## Ejercicio 1: Asignación de Variables y Matemática Básica\n",
    "\n",
    "Se dan los siguientes datos para un cliente en un banco: nombre, saldo promedio y número de transacciones realizadas durante el mes. Se requiere calcular el interés devengado y el cargo por servicio.\n",
    "\n",
    "El interés se calcula de la siguiente manera: \n",
    "\n",
    "$$\n",
    "Interés = 3\\% · Saldo \\: Promedio\n",
    "$$\n",
    "\n",
    "El cargo por servicio se calcula así:\n",
    "\n",
    "$$\n",
    "Cargo \\: por \\: Servicio = 75/100 · Transacción\n",
    "$$\n",
    "\n",
    "<div class=\"alert alert-block alert-warning\">\n",
    "    \n",
    "Escriba un algoritmo que calcula el interés y el cargo por servicio a partir de los siguientes datos:\n",
    "> **Nombre:** Noel Kalicharan <br>\n",
    "> **Saldo Promedio:** 5550 <br>\n",
    "> **Número de Transacciones:** 7 <br>\n",
    "\n",
    "También, explore cómo hacer más dinámico el algoritmo a partir de entradas por teclado del nombre del cliente, el interés y el cargo por servicio. Para esto, use la función `readline()`.\n",
    "\n",
    "**Nota:** Las entradas por teclado *siempre* son tipo String, por tanto, si tenemos números (Int o Float), debemos transformarlos de la siguiente manera: `parse(Int64, readline())` o `parse(Float64, readline())`.\n",
    "\n",
    "</div>\n",
    "\n",
    "___\n",
    "**Ejemplo** <br>\n",
    "<font color=\"#FF5733\">Input</font>\n",
    "```julia\n",
    "nombre = \"Noel Kalicharan\"\n",
    "saldo_prom = 5550\n",
    "num_transacciones = 7\n",
    "```\n",
    "<font color=\"#FF5733\">Output</font>\n",
    "```julia\n",
    "interes = 166.5\n",
    "cargo_servicio = 5.25\n",
    "```\n",
    "___"
   ]
  },
  {
   "cell_type": "code",
   "execution_count": 1,
   "metadata": {},
   "outputs": [
    {
     "name": "stdout",
     "output_type": "stream",
     "text": [
      "¿Cuál es tu nombre?: \n",
      "Hola, Matias. ¿Cuál fue tu saldo promedio?: \n",
      "¿Cuantas transacciónes hiciste?: \n",
      "Tu interés devengado es de 166.5 y el cargo por servicio de 5.25.\n"
     ]
    }
   ],
   "source": [
    "function calculo_de_interes()\n",
    "    println(\"¿Cuál es tu nombre?: \")\n",
    "    name = readline()\n",
    "    println(\"Hola, $name. ¿Cuál fue tu saldo promedio?: \")\n",
    "    saldo = parse(Int64, readline())\n",
    "    println(\"¿Cuantas transacciónes hiciste?: \")\n",
    "    Transaciones = parse(Int64, readline())\n",
    "    interes = 0.03 * saldo\n",
    "    servicio = 75 / 100 * Transaciones\n",
    "    println(\"Tu interés devengado es de $interes y el cargo por servicio de $servicio.\")\n",
    "\n",
    "end\n",
    "\n",
    "calculo_de_interes()"
   ]
  },
  {
   "cell_type": "markdown",
   "metadata": {},
   "source": [
    "## Ejercicio 2: Condicionales If-Elseif-Else\n",
    "\n",
    "Se tienen dos números definidos vía entrada por teclado (i.e., `parse(Float64, readline())`), al igual que un operador matemático básico (i.e., `+`, `-`, `*`, `/`).\n",
    "\n",
    "<div class=\"alert alert-block alert-warning\">\n",
    "    \n",
    "Escriba un algoritmo que ejecute la operación matemática entre los dos números definidos vía entrada por teclado, y lo imprima en pantalla con la sintaxis:\n",
    "\n",
    "```julia\n",
    "\"La [operación] entre [número 1] y [número 2] es [resultado]. \n",
    "```\n",
    "\n",
    "¿Cómo restrinje una división entre cero o una operación por un caracter diferente a un operador matemático?\n",
    "\n",
    "</div>\n",
    "\n",
    "___\n",
    "**Ejemplo 1** <br>\n",
    "<font color=\"#FF5733\">Input</font>\n",
    "```julia\n",
    "num1 = 25\n",
    "num2 = 5\n",
    "oper = *\n",
    "```\n",
    "<font color=\"#FF5733\">Output</font>\n",
    "```julia\n",
    "\"La multiplicación entre 25 y 5 es 125.\"\n",
    "```\n",
    "\n",
    "**Ejemplo 2** <br>\n",
    "<font color=\"#FF5733\">Input</font>\n",
    "```julia\n",
    "num1 = 12\n",
    "num2 = 0\n",
    "oper = /\n",
    "```\n",
    "<font color=\"#FF5733\">Output</font>\n",
    "```julia\n",
    "\"¡No se puede dividir entre 0!\"\n",
    "```\n",
    "\n",
    "**Ejemplo 3** <br>\n",
    "<font color=\"#FF5733\">Input</font>\n",
    "```julia\n",
    "num1 = 3\n",
    "num2 = 7\n",
    "oper = x\n",
    "```\n",
    "<font color=\"#FF5733\">Output</font>\n",
    "```julia\n",
    "\"ERROR: No seleccionó un operador correcto.\"\n",
    "```\n",
    "___"
   ]
  },
  {
   "cell_type": "code",
   "execution_count": 2,
   "metadata": {},
   "outputs": [
    {
     "name": "stdout",
     "output_type": "stream",
     "text": [
      "Ingresa tu primer número: \n",
      "Ingresa el segundo numero: \n",
      "Ingresa el operador: -\n",
      "La resta entre 2 y 4 es -2.\n"
     ]
    }
   ],
   "source": [
    "function condiciones()\n",
    "    println(\"Ingresa tu primer número: \")\n",
    "    var1 = parse(Int64, readline())\n",
    "    println(\"Ingresa el segundo numero: \")\n",
    "    var2 = parse(Int64, readline())\n",
    "    print(\"Ingresa el operador: \")\n",
    "    operador = readline()\n",
    "    println(operador)\n",
    "    if operador == \"+\"\n",
    "        sol = var1 + var2\n",
    "        println(\"La suma entre $var1 y $var2 es $sol.\")\n",
    "    elseif operador == \"-\"\n",
    "        sol = var1 - var2\n",
    "        println(\"La resta entre $var1 y $var2 es $sol.\")\n",
    "    elseif operador == \"*\"\n",
    "        sol = var1 * var2\n",
    "        println(\"La multiplicación entre $var1 y $var2 es $sol.\")\n",
    "    elseif operador == \"/\"\n",
    "        sol = var1 / var2\n",
    "        println(\"La division entre $var1 y $var2 es $sol.\")\n",
    "    else\n",
    "        println(\"ERROR: No selecionó un operador correcto.\")\n",
    "    end\n",
    "\n",
    "end\n",
    "\n",
    "condiciones()"
   ]
  },
  {
   "cell_type": "markdown",
   "metadata": {},
   "source": [
    "## Ejercicio 3: Contenedores, Iteradores y Condicionales\n",
    "\n",
    "Se tienen el conjunto de información de los meses y la respectiva cantidad de días en una estructura (Tuple, Dict o Array). \n",
    "\n",
    "<div class=\"alert alert-block alert-warning\">\n",
    "    \n",
    "Escriba un algoritmo que imprimir una lista (Array) que contiene los nombres de los meses con menos de 31 días. ¿Cómo podría indicar el número del mes (e.g., Mayo = 5)?\n",
    "\n",
    "</div>\n",
    "\n",
    "___\n",
    "**Ejemplo** <br>\n",
    "<font color=\"#FF5733\">Output</font>\n",
    "```julia\n",
    "[\"2 - Febrero\", \"4 - Abril\", \"6 - Junio\", \"9 - Septiembre\", \"11 - Noviembre\"]\n",
    "```\n",
    "___"
   ]
  },
  {
   "cell_type": "code",
   "execution_count": 2,
   "metadata": {},
   "outputs": [
    {
     "name": "stdout",
     "output_type": "stream",
     "text": [
      "Any[\"Febrero\", \"Septiembre\", \"Abril\", \"Noviembre\", \"Junio\"]\n"
     ]
    }
   ],
   "source": [
    "Meses = Dict(\"Enero\" => 31, \"Febrero\" => 28, \"Marzo\" => 31, \"Abril\" => 30, \"Mayo\" => 31, \"Junio\" => 30, \"Julio\" => 31, \"Agosto\" => 31, \"Septiembre\" => 30, \"Octubre\" => 31, \"Noviembre\" => 30, \"Diciembre\" => 31)\n",
    "\n",
    "function meses_menos_31()\n",
    "    sol = []\n",
    "    for (key,value) in Meses\n",
    "        if Meses[key] < 31\n",
    "            push!(sol, key)\n",
    "\n",
    "        end\n",
    "    end\n",
    "    println(sol)\n",
    "end\n",
    "\n",
    "meses_menos_31()"
   ]
  },
  {
   "cell_type": "markdown",
   "metadata": {},
   "source": [
    "## Ejercicio 4: Funciones\n",
    "\n",
    "Se busca preparar la nómina de una pequeña empresa. Los datos del número de horas trabajadas (`num_horas`)y la tasa de pago (`tasa_pago`). Para esto, se tienen las siguientes condiciones:\n",
    "\n",
    "- Si `num_horas` es menor o igual a 40, calculamos el pago regular (`pago_regular`) multiplicando `num_horas` por `tasa_pago`, y el pago de horas extras (`pago_extras`) es 0.\n",
    "- Si `num_horas` es mayor a 40, calculamos el pago regular multiplicando 40 por `tasa_pago` y el pago de horas extras así: $(num\\_horas - 40) · tasa\\_pago · 1.5$. El salario neto (`neto`) se calcula sumando el pago regular (`pago_regular`) y el pago de horas extras (`pago_extras`).\n",
    "\n",
    "<div class=\"alert alert-block alert-warning\">\n",
    "    \n",
    "Escriba un algoritmo que permita calcular el pago de nómina de la pequeña empresa.\n",
    "\n",
    "</div>\n",
    "\n",
    "___\n",
    "**Ejemplo** <br>\n",
    "<font color=\"#FF5733\">Input</font>\n",
    "```julia\n",
    "horas_trabajadas = 30\n",
    "pago_por_hora = 25\n",
    "```\n",
    "<font color=\"#FF5733\">Output</font>\n",
    "```julia\n",
    "neto = 750\n",
    "```\n",
    "___"
   ]
  },
  {
   "cell_type": "code",
   "execution_count": 5,
   "metadata": {},
   "outputs": [
    {
     "name": "stdout",
     "output_type": "stream",
     "text": [
      "¿Cuantas horas se trabajaron?: \n",
      "¿Cuanto es la tasa de pago?: \n"
     ]
    },
    {
     "data": {
      "text/plain": [
       "1187.5"
      ]
     },
     "execution_count": 5,
     "metadata": {},
     "output_type": "execute_result"
    }
   ],
   "source": [
    "function preparar_nomina()\n",
    "    println(\"¿Cuantas horas se trabajaron?: \")\n",
    "    num_horas = parse(Int64, readline())\n",
    "    println(\"¿Cuanto es la tasa de pago?: \")\n",
    "    tasa_pago = parse(Int64, readline())\n",
    "    if num_horas <= 40\n",
    "        neto = num_horas*tasa_pago\n",
    "    else\n",
    "        pago_regular = 40*tasa_pago\n",
    "        pago_extras = (num_horas-40) * tasa_pago * 1.5\n",
    "        neto = pago_regular + pago_extras\n",
    "    end\n",
    "end\n",
    "\n",
    "preparar_nomina()"
   ]
  },
  {
   "cell_type": "markdown",
   "metadata": {},
   "source": [
    "## Ejercicio 5: Librerías\n",
    "\n",
    "En la carpeta `data` dentro de `week1` se dispone el archivo `solar_production.csv` que contiene datos de producción de la planta solar fotovoltaica ubicada en el edificio Santo Domingo de la Universidad de los Andes.\n",
    "\n",
    "<div class=\"alert alert-block alert-warning\">\n",
    "    \n",
    "Utilizando la librería `DataFrames.jl`, escriba un algoritmo que permita:\n",
    "1. Indicar la cantidad de filas y columnas que tiene el conjunto de datos.\n",
    "2. Obtener una descripción estadística de las columnas de datos. Para esto, explore la función `describe()`.\n",
    "3. Indicar los meses en que se registraron los datos.\n",
    "4. Obtener una descripción estadística de las columnas de datos por cada mes.\n",
    "\n",
    "</div>"
   ]
  },
  {
   "cell_type": "code",
   "execution_count": 9,
   "metadata": {},
   "outputs": [
    {
     "name": "stderr",
     "output_type": "stream",
     "text": [
      "\u001b[32m\u001b[1m    Updating\u001b[22m\u001b[39m registry at `~/.julia/registries/General.toml`\n",
      "\u001b[32m\u001b[1m   Resolving\u001b[22m\u001b[39m package versions...\n",
      "\u001b[32m\u001b[1m  No Changes\u001b[22m\u001b[39m to `~/Documents/GitHub/ua-imec2001-hc-202210/content/week1/Project.toml`\n",
      "\u001b[32m\u001b[1m  No Changes\u001b[22m\u001b[39m to `~/Documents/GitHub/ua-imec2001-hc-202210/content/week1/Manifest.toml`\n",
      "\u001b[32m\u001b[1m   Resolving\u001b[22m\u001b[39m package versions...\n",
      "\u001b[32m\u001b[1m  No Changes\u001b[22m\u001b[39m to `~/Documents/GitHub/ua-imec2001-hc-202210/content/week1/Project.toml`\n",
      "\u001b[32m\u001b[1m  No Changes\u001b[22m\u001b[39m to `~/Documents/GitHub/ua-imec2001-hc-202210/content/week1/Manifest.toml`\n"
     ]
    },
    {
     "data": {
      "text/html": [
       "<div class=\"data-frame\"><p>105,406 rows × 14 columns (omitted printing of 9 columns)</p><table class=\"data-frame\"><thead><tr><th></th><th>Datetime</th><th>Zenith (deg)</th><th>Elevation (deg)</th><th>Azimuth (deg)</th><th>Airmass Relative (ad)</th></tr><tr><th></th><th title=\"String31\">String31</th><th title=\"Float64\">Float64</th><th title=\"Float64\">Float64</th><th title=\"Float64\">Float64</th><th title=\"Union{Missing, Float64}\">Float64?</th></tr></thead><tbody><tr><th>1</th><td>2020-01-01 00:00:00-05:00</td><td>161.56</td><td>-71.56</td><td>179.6</td><td><em>missing</em></td></tr><tr><th>2</th><td>2020-01-01 00:05:00-05:00</td><td>161.51</td><td>-71.51</td><td>175.97</td><td><em>missing</em></td></tr><tr><th>3</th><td>2020-01-01 00:10:00-05:00</td><td>161.39</td><td>-71.39</td><td>172.38</td><td><em>missing</em></td></tr><tr><th>4</th><td>2020-01-01 00:15:00-05:00</td><td>161.19</td><td>-71.19</td><td>168.85</td><td><em>missing</em></td></tr><tr><th>5</th><td>2020-01-01 00:20:00-05:00</td><td>160.91</td><td>-70.91</td><td>165.41</td><td><em>missing</em></td></tr><tr><th>6</th><td>2020-01-01 00:25:00-05:00</td><td>160.56</td><td>-70.56</td><td>162.09</td><td><em>missing</em></td></tr><tr><th>7</th><td>2020-01-01 00:30:00-05:00</td><td>160.14</td><td>-70.14</td><td>158.9</td><td><em>missing</em></td></tr><tr><th>8</th><td>2020-01-01 00:35:00-05:00</td><td>159.66</td><td>-69.66</td><td>155.86</td><td><em>missing</em></td></tr><tr><th>9</th><td>2020-01-01 00:40:00-05:00</td><td>159.13</td><td>-69.13</td><td>152.97</td><td><em>missing</em></td></tr><tr><th>10</th><td>2020-01-01 00:45:00-05:00</td><td>158.53</td><td>-68.53</td><td>150.24</td><td><em>missing</em></td></tr><tr><th>11</th><td>2020-01-01 00:50:00-05:00</td><td>157.89</td><td>-67.89</td><td>147.67</td><td><em>missing</em></td></tr><tr><th>12</th><td>2020-01-01 00:55:00-05:00</td><td>157.2</td><td>-67.2</td><td>145.26</td><td><em>missing</em></td></tr><tr><th>13</th><td>2020-01-01 01:00:00-05:00</td><td>156.47</td><td>-66.47</td><td>143.0</td><td><em>missing</em></td></tr><tr><th>14</th><td>2020-01-01 01:05:00-05:00</td><td>155.71</td><td>-65.71</td><td>140.89</td><td><em>missing</em></td></tr><tr><th>15</th><td>2020-01-01 01:10:00-05:00</td><td>154.9</td><td>-64.9</td><td>138.91</td><td><em>missing</em></td></tr><tr><th>16</th><td>2020-01-01 01:15:00-05:00</td><td>154.07</td><td>-64.07</td><td>137.07</td><td><em>missing</em></td></tr><tr><th>17</th><td>2020-01-01 01:20:00-05:00</td><td>153.21</td><td>-63.21</td><td>135.36</td><td><em>missing</em></td></tr><tr><th>18</th><td>2020-01-01 01:25:00-05:00</td><td>152.32</td><td>-62.32</td><td>133.76</td><td><em>missing</em></td></tr><tr><th>19</th><td>2020-01-01 01:30:00-05:00</td><td>151.41</td><td>-61.41</td><td>132.27</td><td><em>missing</em></td></tr><tr><th>20</th><td>2020-01-01 01:35:00-05:00</td><td>150.48</td><td>-60.48</td><td>130.88</td><td><em>missing</em></td></tr><tr><th>21</th><td>2020-01-01 01:40:00-05:00</td><td>149.53</td><td>-59.53</td><td>129.59</td><td><em>missing</em></td></tr><tr><th>22</th><td>2020-01-01 01:45:00-05:00</td><td>148.56</td><td>-58.56</td><td>128.38</td><td><em>missing</em></td></tr><tr><th>23</th><td>2020-01-01 01:50:00-05:00</td><td>147.58</td><td>-57.58</td><td>127.26</td><td><em>missing</em></td></tr><tr><th>24</th><td>2020-01-01 01:55:00-05:00</td><td>146.58</td><td>-56.58</td><td>126.21</td><td><em>missing</em></td></tr><tr><th>25</th><td>2020-01-01 02:00:00-05:00</td><td>145.57</td><td>-55.57</td><td>125.23</td><td><em>missing</em></td></tr><tr><th>26</th><td>2020-01-01 02:05:00-05:00</td><td>144.54</td><td>-54.54</td><td>124.31</td><td><em>missing</em></td></tr><tr><th>27</th><td>2020-01-01 02:10:00-05:00</td><td>143.51</td><td>-53.51</td><td>123.45</td><td><em>missing</em></td></tr><tr><th>28</th><td>2020-01-01 02:15:00-05:00</td><td>142.47</td><td>-52.47</td><td>122.65</td><td><em>missing</em></td></tr><tr><th>29</th><td>2020-01-01 02:20:00-05:00</td><td>141.41</td><td>-51.41</td><td>121.9</td><td><em>missing</em></td></tr><tr><th>30</th><td>2020-01-01 02:25:00-05:00</td><td>140.35</td><td>-50.35</td><td>121.2</td><td><em>missing</em></td></tr><tr><th>&vellip;</th><td>&vellip;</td><td>&vellip;</td><td>&vellip;</td><td>&vellip;</td><td>&vellip;</td></tr></tbody></table></div>"
      ],
      "text/latex": [
       "\\begin{tabular}{r|cccccc}\n",
       "\t& Datetime & Zenith (deg) & Elevation (deg) & Azimuth (deg) & Airmass Relative (ad) & \\\\\n",
       "\t\\hline\n",
       "\t& String31 & Float64 & Float64 & Float64 & Float64? & \\\\\n",
       "\t\\hline\n",
       "\t1 & 2020-01-01 00:00:00-05:00 & 161.56 & -71.56 & 179.6 & \\emph{missing} & $\\dots$ \\\\\n",
       "\t2 & 2020-01-01 00:05:00-05:00 & 161.51 & -71.51 & 175.97 & \\emph{missing} & $\\dots$ \\\\\n",
       "\t3 & 2020-01-01 00:10:00-05:00 & 161.39 & -71.39 & 172.38 & \\emph{missing} & $\\dots$ \\\\\n",
       "\t4 & 2020-01-01 00:15:00-05:00 & 161.19 & -71.19 & 168.85 & \\emph{missing} & $\\dots$ \\\\\n",
       "\t5 & 2020-01-01 00:20:00-05:00 & 160.91 & -70.91 & 165.41 & \\emph{missing} & $\\dots$ \\\\\n",
       "\t6 & 2020-01-01 00:25:00-05:00 & 160.56 & -70.56 & 162.09 & \\emph{missing} & $\\dots$ \\\\\n",
       "\t7 & 2020-01-01 00:30:00-05:00 & 160.14 & -70.14 & 158.9 & \\emph{missing} & $\\dots$ \\\\\n",
       "\t8 & 2020-01-01 00:35:00-05:00 & 159.66 & -69.66 & 155.86 & \\emph{missing} & $\\dots$ \\\\\n",
       "\t9 & 2020-01-01 00:40:00-05:00 & 159.13 & -69.13 & 152.97 & \\emph{missing} & $\\dots$ \\\\\n",
       "\t10 & 2020-01-01 00:45:00-05:00 & 158.53 & -68.53 & 150.24 & \\emph{missing} & $\\dots$ \\\\\n",
       "\t11 & 2020-01-01 00:50:00-05:00 & 157.89 & -67.89 & 147.67 & \\emph{missing} & $\\dots$ \\\\\n",
       "\t12 & 2020-01-01 00:55:00-05:00 & 157.2 & -67.2 & 145.26 & \\emph{missing} & $\\dots$ \\\\\n",
       "\t13 & 2020-01-01 01:00:00-05:00 & 156.47 & -66.47 & 143.0 & \\emph{missing} & $\\dots$ \\\\\n",
       "\t14 & 2020-01-01 01:05:00-05:00 & 155.71 & -65.71 & 140.89 & \\emph{missing} & $\\dots$ \\\\\n",
       "\t15 & 2020-01-01 01:10:00-05:00 & 154.9 & -64.9 & 138.91 & \\emph{missing} & $\\dots$ \\\\\n",
       "\t16 & 2020-01-01 01:15:00-05:00 & 154.07 & -64.07 & 137.07 & \\emph{missing} & $\\dots$ \\\\\n",
       "\t17 & 2020-01-01 01:20:00-05:00 & 153.21 & -63.21 & 135.36 & \\emph{missing} & $\\dots$ \\\\\n",
       "\t18 & 2020-01-01 01:25:00-05:00 & 152.32 & -62.32 & 133.76 & \\emph{missing} & $\\dots$ \\\\\n",
       "\t19 & 2020-01-01 01:30:00-05:00 & 151.41 & -61.41 & 132.27 & \\emph{missing} & $\\dots$ \\\\\n",
       "\t20 & 2020-01-01 01:35:00-05:00 & 150.48 & -60.48 & 130.88 & \\emph{missing} & $\\dots$ \\\\\n",
       "\t21 & 2020-01-01 01:40:00-05:00 & 149.53 & -59.53 & 129.59 & \\emph{missing} & $\\dots$ \\\\\n",
       "\t22 & 2020-01-01 01:45:00-05:00 & 148.56 & -58.56 & 128.38 & \\emph{missing} & $\\dots$ \\\\\n",
       "\t23 & 2020-01-01 01:50:00-05:00 & 147.58 & -57.58 & 127.26 & \\emph{missing} & $\\dots$ \\\\\n",
       "\t24 & 2020-01-01 01:55:00-05:00 & 146.58 & -56.58 & 126.21 & \\emph{missing} & $\\dots$ \\\\\n",
       "\t25 & 2020-01-01 02:00:00-05:00 & 145.57 & -55.57 & 125.23 & \\emph{missing} & $\\dots$ \\\\\n",
       "\t26 & 2020-01-01 02:05:00-05:00 & 144.54 & -54.54 & 124.31 & \\emph{missing} & $\\dots$ \\\\\n",
       "\t27 & 2020-01-01 02:10:00-05:00 & 143.51 & -53.51 & 123.45 & \\emph{missing} & $\\dots$ \\\\\n",
       "\t28 & 2020-01-01 02:15:00-05:00 & 142.47 & -52.47 & 122.65 & \\emph{missing} & $\\dots$ \\\\\n",
       "\t29 & 2020-01-01 02:20:00-05:00 & 141.41 & -51.41 & 121.9 & \\emph{missing} & $\\dots$ \\\\\n",
       "\t30 & 2020-01-01 02:25:00-05:00 & 140.35 & -50.35 & 121.2 & \\emph{missing} & $\\dots$ \\\\\n",
       "\t$\\dots$ & $\\dots$ & $\\dots$ & $\\dots$ & $\\dots$ & $\\dots$ &  \\\\\n",
       "\\end{tabular}\n"
      ],
      "text/plain": [
       "\u001b[1m105406×14 DataFrame\u001b[0m\n",
       "\u001b[1m    Row \u001b[0m│\u001b[1m Datetime                  \u001b[0m\u001b[1m Zenith (deg) \u001b[0m\u001b[1m Elevation (deg) \u001b[0m\u001b[1m Azimuth (d\u001b[0m ⋯\n",
       "\u001b[1m        \u001b[0m│\u001b[90m String31                  \u001b[0m\u001b[90m Float64      \u001b[0m\u001b[90m Float64         \u001b[0m\u001b[90m Float64   \u001b[0m ⋯\n",
       "────────┼───────────────────────────────────────────────────────────────────────\n",
       "      1 │ 2020-01-01 00:00:00-05:00        161.56           -71.56         179 ⋯\n",
       "      2 │ 2020-01-01 00:05:00-05:00        161.51           -71.51         175\n",
       "      3 │ 2020-01-01 00:10:00-05:00        161.39           -71.39         172\n",
       "      4 │ 2020-01-01 00:15:00-05:00        161.19           -71.19         168\n",
       "      5 │ 2020-01-01 00:20:00-05:00        160.91           -70.91         165 ⋯\n",
       "      6 │ 2020-01-01 00:25:00-05:00        160.56           -70.56         162\n",
       "      7 │ 2020-01-01 00:30:00-05:00        160.14           -70.14         158\n",
       "      8 │ 2020-01-01 00:35:00-05:00        159.66           -69.66         155\n",
       "      9 │ 2020-01-01 00:40:00-05:00        159.13           -69.13         152 ⋯\n",
       "     10 │ 2020-01-01 00:45:00-05:00        158.53           -68.53         150\n",
       "     11 │ 2020-01-01 00:50:00-05:00        157.89           -67.89         147\n",
       "   ⋮    │             ⋮                   ⋮               ⋮               ⋮    ⋱\n",
       " 105397 │ 2020-12-31 23:15:00-05:00        158.67           -68.67         209\n",
       " 105398 │ 2020-12-31 23:20:00-05:00        159.26           -69.26         206 ⋯\n",
       " 105399 │ 2020-12-31 23:25:00-05:00        159.79           -69.79         203\n",
       " 105400 │ 2020-12-31 23:30:00-05:00        160.26           -70.26         200\n",
       " 105401 │ 2020-12-31 23:35:00-05:00        160.67           -70.67         197\n",
       " 105402 │ 2020-12-31 23:40:00-05:00        161.01           -71.01         194 ⋯\n",
       " 105403 │ 2020-12-31 23:45:00-05:00        161.28           -71.28         190\n",
       " 105404 │ 2020-12-31 23:50:00-05:00        161.47           -71.47         187\n",
       " 105405 │ 2020-12-31 23:55:00-05:00        161.59           -71.59         183\n",
       " 105406 │ 2021-01-01 00:00:00-05:00        161.62           -71.62         179 ⋯\n",
       "\u001b[36m                                              11 columns and 105385 rows omitted\u001b[0m"
      ]
     },
     "execution_count": 9,
     "metadata": {},
     "output_type": "execute_result"
    }
   ],
   "source": [
    "using Pkg\n",
    "Pkg.instantiate()\n",
    "Pkg.add(\"CSV\")\n",
    "Pkg.add(\"DataFrames\")\n",
    "\n",
    "using DataFrames, CSV\n",
    "df1 = DataFrame(CSV.File(\"./data/solar_production.csv\"))\n",
    "println(\"El DataFrame tiene $(size(df1)[1]) filas y $(size(df1)[2]) columnas.\")\n",
    "println(describe(df1))\n",
    "\n",
    "using Dates\n",
    "meses = []\n",
    "for i in df1.Datetime\n",
    "    if i[6:8] not in meses\n",
    "        push!(meses, Dates.month(i))\n",
    "    end\n",
    "end\n",
    "println(meses)\n",
    "\n"
   ]
  },
  {
   "cell_type": "markdown",
   "metadata": {},
   "source": [
    "## Ejercicio 6: Gráficas\n",
    "\n",
    "En la carpeta `data` dentro de `week1` se dispone el archivo `solar_production.csv` que contiene datos de producción de la planta solar fotovoltaica ubicada en el edificio Santo Domingo de la Universidad de los Andes.\n",
    "\n",
    "<div class=\"alert alert-block alert-warning\">\n",
    "    \n",
    "Utilizando la librería `DataFrames.jl` y `Plots.jl`, escriba un algoritmo que permita realizar tres gráficas diferentes de su interés.\n",
    "\n",
    "</div>"
   ]
  },
  {
   "cell_type": "code",
   "execution_count": null,
   "metadata": {},
   "outputs": [],
   "source": [
    "using Pkg\n",
    "Pkg.instantiate()\n",
    "Pkg.add(\"CSV\")\n",
    "Pkg.add(\"DataFrames\")\n",
    "\n",
    "using DataFrames, CSV\n",
    "df1 = DataFrame(CSV.File(\"./data/solar_production.csv\"))"
   ]
  }
 ],
 "metadata": {
  "kernelspec": {
   "display_name": "Julia 1.7.2",
   "language": "julia",
   "name": "julia-1.7"
  },
  "language_info": {
   "file_extension": ".jl",
   "mimetype": "application/julia",
   "name": "julia",
   "version": "1.7.2"
  },
  "toc": {
   "base_numbering": 1,
   "nav_menu": {},
   "number_sections": false,
   "sideBar": true,
   "skip_h1_title": true,
   "title_cell": "Table of Contents",
   "title_sidebar": "Contents",
   "toc_cell": false,
   "toc_position": {},
   "toc_section_display": true,
   "toc_window_display": false
  }
 },
 "nbformat": 4,
 "nbformat_minor": 2
}
